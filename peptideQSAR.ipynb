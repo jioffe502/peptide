{
  "nbformat": 4,
  "nbformat_minor": 0,
  "metadata": {
    "colab": {
      "provenance": [],
      "authorship_tag": "ABX9TyP19Yj1JTDxtOCHDNivuQuo",
      "include_colab_link": true
    },
    "kernelspec": {
      "name": "python3",
      "display_name": "Python 3"
    },
    "language_info": {
      "name": "python"
    }
  },
  "cells": [
    {
      "cell_type": "markdown",
      "metadata": {
        "id": "view-in-github",
        "colab_type": "text"
      },
      "source": [
        "<a href=\"https://colab.research.google.com/github/jioffe502/peptide/blob/main/peptideQSAR.ipynb\" target=\"_parent\"><img src=\"https://colab.research.google.com/assets/colab-badge.svg\" alt=\"Open In Colab\"/></a>"
      ]
    },
    {
      "cell_type": "code",
      "execution_count": 17,
      "metadata": {
        "id": "2CxJo3MNetgQ"
      },
      "outputs": [],
      "source": [
        "import pandas as pd\n",
        "import numpy  as np\n",
        "from sklearn.model_selection import GridSearchCV, train_test_split\n",
        "from sklearn.metrics import mean_squared_error, r2_score\n",
        "import matplotlib.pyplot as plt"
      ]
    },
    {
      "cell_type": "code",
      "source": [
        "from google.colab import files\n",
        "\n",
        "# upload dataset\n",
        "uploaded = files.upload()\n",
        "for fn in uploaded.keys():\n",
        "  print('User uploaded file \"{name}\" with length {length} bytes'.format(\n",
        "      name=fn, length=len(uploaded[fn])))"
      ],
      "metadata": {
        "colab": {
          "base_uri": "https://localhost:8080/",
          "height": 92
        },
        "id": "Sl5N9Gn3fPTS",
        "outputId": "d6a5d928-05fc-4c72-80c7-a4b228a97299"
      },
      "execution_count": null,
      "outputs": [
        {
          "output_type": "display_data",
          "data": {
            "text/plain": [
              "<IPython.core.display.HTML object>"
            ],
            "text/html": [
              "\n",
              "     <input type=\"file\" id=\"files-68114e27-11c2-4e5e-90de-2f7cd9c30d61\" name=\"files[]\" multiple disabled\n",
              "        style=\"border:none\" />\n",
              "     <output id=\"result-68114e27-11c2-4e5e-90de-2f7cd9c30d61\">\n",
              "      Upload widget is only available when the cell has been executed in the\n",
              "      current browser session. Please rerun this cell to enable.\n",
              "      </output>\n",
              "      <script>// Copyright 2017 Google LLC\n",
              "//\n",
              "// Licensed under the Apache License, Version 2.0 (the \"License\");\n",
              "// you may not use this file except in compliance with the License.\n",
              "// You may obtain a copy of the License at\n",
              "//\n",
              "//      http://www.apache.org/licenses/LICENSE-2.0\n",
              "//\n",
              "// Unless required by applicable law or agreed to in writing, software\n",
              "// distributed under the License is distributed on an \"AS IS\" BASIS,\n",
              "// WITHOUT WARRANTIES OR CONDITIONS OF ANY KIND, either express or implied.\n",
              "// See the License for the specific language governing permissions and\n",
              "// limitations under the License.\n",
              "\n",
              "/**\n",
              " * @fileoverview Helpers for google.colab Python module.\n",
              " */\n",
              "(function(scope) {\n",
              "function span(text, styleAttributes = {}) {\n",
              "  const element = document.createElement('span');\n",
              "  element.textContent = text;\n",
              "  for (const key of Object.keys(styleAttributes)) {\n",
              "    element.style[key] = styleAttributes[key];\n",
              "  }\n",
              "  return element;\n",
              "}\n",
              "\n",
              "// Max number of bytes which will be uploaded at a time.\n",
              "const MAX_PAYLOAD_SIZE = 100 * 1024;\n",
              "\n",
              "function _uploadFiles(inputId, outputId) {\n",
              "  const steps = uploadFilesStep(inputId, outputId);\n",
              "  const outputElement = document.getElementById(outputId);\n",
              "  // Cache steps on the outputElement to make it available for the next call\n",
              "  // to uploadFilesContinue from Python.\n",
              "  outputElement.steps = steps;\n",
              "\n",
              "  return _uploadFilesContinue(outputId);\n",
              "}\n",
              "\n",
              "// This is roughly an async generator (not supported in the browser yet),\n",
              "// where there are multiple asynchronous steps and the Python side is going\n",
              "// to poll for completion of each step.\n",
              "// This uses a Promise to block the python side on completion of each step,\n",
              "// then passes the result of the previous step as the input to the next step.\n",
              "function _uploadFilesContinue(outputId) {\n",
              "  const outputElement = document.getElementById(outputId);\n",
              "  const steps = outputElement.steps;\n",
              "\n",
              "  const next = steps.next(outputElement.lastPromiseValue);\n",
              "  return Promise.resolve(next.value.promise).then((value) => {\n",
              "    // Cache the last promise value to make it available to the next\n",
              "    // step of the generator.\n",
              "    outputElement.lastPromiseValue = value;\n",
              "    return next.value.response;\n",
              "  });\n",
              "}\n",
              "\n",
              "/**\n",
              " * Generator function which is called between each async step of the upload\n",
              " * process.\n",
              " * @param {string} inputId Element ID of the input file picker element.\n",
              " * @param {string} outputId Element ID of the output display.\n",
              " * @return {!Iterable<!Object>} Iterable of next steps.\n",
              " */\n",
              "function* uploadFilesStep(inputId, outputId) {\n",
              "  const inputElement = document.getElementById(inputId);\n",
              "  inputElement.disabled = false;\n",
              "\n",
              "  const outputElement = document.getElementById(outputId);\n",
              "  outputElement.innerHTML = '';\n",
              "\n",
              "  const pickedPromise = new Promise((resolve) => {\n",
              "    inputElement.addEventListener('change', (e) => {\n",
              "      resolve(e.target.files);\n",
              "    });\n",
              "  });\n",
              "\n",
              "  const cancel = document.createElement('button');\n",
              "  inputElement.parentElement.appendChild(cancel);\n",
              "  cancel.textContent = 'Cancel upload';\n",
              "  const cancelPromise = new Promise((resolve) => {\n",
              "    cancel.onclick = () => {\n",
              "      resolve(null);\n",
              "    };\n",
              "  });\n",
              "\n",
              "  // Wait for the user to pick the files.\n",
              "  const files = yield {\n",
              "    promise: Promise.race([pickedPromise, cancelPromise]),\n",
              "    response: {\n",
              "      action: 'starting',\n",
              "    }\n",
              "  };\n",
              "\n",
              "  cancel.remove();\n",
              "\n",
              "  // Disable the input element since further picks are not allowed.\n",
              "  inputElement.disabled = true;\n",
              "\n",
              "  if (!files) {\n",
              "    return {\n",
              "      response: {\n",
              "        action: 'complete',\n",
              "      }\n",
              "    };\n",
              "  }\n",
              "\n",
              "  for (const file of files) {\n",
              "    const li = document.createElement('li');\n",
              "    li.append(span(file.name, {fontWeight: 'bold'}));\n",
              "    li.append(span(\n",
              "        `(${file.type || 'n/a'}) - ${file.size} bytes, ` +\n",
              "        `last modified: ${\n",
              "            file.lastModifiedDate ? file.lastModifiedDate.toLocaleDateString() :\n",
              "                                    'n/a'} - `));\n",
              "    const percent = span('0% done');\n",
              "    li.appendChild(percent);\n",
              "\n",
              "    outputElement.appendChild(li);\n",
              "\n",
              "    const fileDataPromise = new Promise((resolve) => {\n",
              "      const reader = new FileReader();\n",
              "      reader.onload = (e) => {\n",
              "        resolve(e.target.result);\n",
              "      };\n",
              "      reader.readAsArrayBuffer(file);\n",
              "    });\n",
              "    // Wait for the data to be ready.\n",
              "    let fileData = yield {\n",
              "      promise: fileDataPromise,\n",
              "      response: {\n",
              "        action: 'continue',\n",
              "      }\n",
              "    };\n",
              "\n",
              "    // Use a chunked sending to avoid message size limits. See b/62115660.\n",
              "    let position = 0;\n",
              "    do {\n",
              "      const length = Math.min(fileData.byteLength - position, MAX_PAYLOAD_SIZE);\n",
              "      const chunk = new Uint8Array(fileData, position, length);\n",
              "      position += length;\n",
              "\n",
              "      const base64 = btoa(String.fromCharCode.apply(null, chunk));\n",
              "      yield {\n",
              "        response: {\n",
              "          action: 'append',\n",
              "          file: file.name,\n",
              "          data: base64,\n",
              "        },\n",
              "      };\n",
              "\n",
              "      let percentDone = fileData.byteLength === 0 ?\n",
              "          100 :\n",
              "          Math.round((position / fileData.byteLength) * 100);\n",
              "      percent.textContent = `${percentDone}% done`;\n",
              "\n",
              "    } while (position < fileData.byteLength);\n",
              "  }\n",
              "\n",
              "  // All done.\n",
              "  yield {\n",
              "    response: {\n",
              "      action: 'complete',\n",
              "    }\n",
              "  };\n",
              "}\n",
              "\n",
              "scope.google = scope.google || {};\n",
              "scope.google.colab = scope.google.colab || {};\n",
              "scope.google.colab._files = {\n",
              "  _uploadFiles,\n",
              "  _uploadFilesContinue,\n",
              "};\n",
              "})(self);\n",
              "</script> "
            ]
          },
          "metadata": {}
        },
        {
          "output_type": "stream",
          "name": "stdout",
          "text": [
            "Saving DPPS_descriptor.xlsx to DPPS_descriptor.xlsx\n",
            "User uploaded file \"DPPS_descriptor.xlsx\" with length 11775 bytes\n"
          ]
        }
      ]
    },
    {
      "cell_type": "code",
      "source": [
        "from google.colab import files\n",
        "\n",
        "# upload dataset\n",
        "uploaded = files.upload()\n",
        "for fn in uploaded.keys():\n",
        "  print('User uploaded file \"{name}\" with length {length} bytes'.format(\n",
        "      name=fn, length=len(uploaded[fn])))"
      ],
      "metadata": {
        "colab": {
          "base_uri": "https://localhost:8080/",
          "height": 92
        },
        "id": "fG2qOFgGfSrp",
        "outputId": "51974b74-1b7a-4d3b-e358-44418d130cb1"
      },
      "execution_count": null,
      "outputs": [
        {
          "output_type": "display_data",
          "data": {
            "text/plain": [
              "<IPython.core.display.HTML object>"
            ],
            "text/html": [
              "\n",
              "     <input type=\"file\" id=\"files-60896dee-120d-4a32-ad3b-31b75b06d5cd\" name=\"files[]\" multiple disabled\n",
              "        style=\"border:none\" />\n",
              "     <output id=\"result-60896dee-120d-4a32-ad3b-31b75b06d5cd\">\n",
              "      Upload widget is only available when the cell has been executed in the\n",
              "      current browser session. Please rerun this cell to enable.\n",
              "      </output>\n",
              "      <script>// Copyright 2017 Google LLC\n",
              "//\n",
              "// Licensed under the Apache License, Version 2.0 (the \"License\");\n",
              "// you may not use this file except in compliance with the License.\n",
              "// You may obtain a copy of the License at\n",
              "//\n",
              "//      http://www.apache.org/licenses/LICENSE-2.0\n",
              "//\n",
              "// Unless required by applicable law or agreed to in writing, software\n",
              "// distributed under the License is distributed on an \"AS IS\" BASIS,\n",
              "// WITHOUT WARRANTIES OR CONDITIONS OF ANY KIND, either express or implied.\n",
              "// See the License for the specific language governing permissions and\n",
              "// limitations under the License.\n",
              "\n",
              "/**\n",
              " * @fileoverview Helpers for google.colab Python module.\n",
              " */\n",
              "(function(scope) {\n",
              "function span(text, styleAttributes = {}) {\n",
              "  const element = document.createElement('span');\n",
              "  element.textContent = text;\n",
              "  for (const key of Object.keys(styleAttributes)) {\n",
              "    element.style[key] = styleAttributes[key];\n",
              "  }\n",
              "  return element;\n",
              "}\n",
              "\n",
              "// Max number of bytes which will be uploaded at a time.\n",
              "const MAX_PAYLOAD_SIZE = 100 * 1024;\n",
              "\n",
              "function _uploadFiles(inputId, outputId) {\n",
              "  const steps = uploadFilesStep(inputId, outputId);\n",
              "  const outputElement = document.getElementById(outputId);\n",
              "  // Cache steps on the outputElement to make it available for the next call\n",
              "  // to uploadFilesContinue from Python.\n",
              "  outputElement.steps = steps;\n",
              "\n",
              "  return _uploadFilesContinue(outputId);\n",
              "}\n",
              "\n",
              "// This is roughly an async generator (not supported in the browser yet),\n",
              "// where there are multiple asynchronous steps and the Python side is going\n",
              "// to poll for completion of each step.\n",
              "// This uses a Promise to block the python side on completion of each step,\n",
              "// then passes the result of the previous step as the input to the next step.\n",
              "function _uploadFilesContinue(outputId) {\n",
              "  const outputElement = document.getElementById(outputId);\n",
              "  const steps = outputElement.steps;\n",
              "\n",
              "  const next = steps.next(outputElement.lastPromiseValue);\n",
              "  return Promise.resolve(next.value.promise).then((value) => {\n",
              "    // Cache the last promise value to make it available to the next\n",
              "    // step of the generator.\n",
              "    outputElement.lastPromiseValue = value;\n",
              "    return next.value.response;\n",
              "  });\n",
              "}\n",
              "\n",
              "/**\n",
              " * Generator function which is called between each async step of the upload\n",
              " * process.\n",
              " * @param {string} inputId Element ID of the input file picker element.\n",
              " * @param {string} outputId Element ID of the output display.\n",
              " * @return {!Iterable<!Object>} Iterable of next steps.\n",
              " */\n",
              "function* uploadFilesStep(inputId, outputId) {\n",
              "  const inputElement = document.getElementById(inputId);\n",
              "  inputElement.disabled = false;\n",
              "\n",
              "  const outputElement = document.getElementById(outputId);\n",
              "  outputElement.innerHTML = '';\n",
              "\n",
              "  const pickedPromise = new Promise((resolve) => {\n",
              "    inputElement.addEventListener('change', (e) => {\n",
              "      resolve(e.target.files);\n",
              "    });\n",
              "  });\n",
              "\n",
              "  const cancel = document.createElement('button');\n",
              "  inputElement.parentElement.appendChild(cancel);\n",
              "  cancel.textContent = 'Cancel upload';\n",
              "  const cancelPromise = new Promise((resolve) => {\n",
              "    cancel.onclick = () => {\n",
              "      resolve(null);\n",
              "    };\n",
              "  });\n",
              "\n",
              "  // Wait for the user to pick the files.\n",
              "  const files = yield {\n",
              "    promise: Promise.race([pickedPromise, cancelPromise]),\n",
              "    response: {\n",
              "      action: 'starting',\n",
              "    }\n",
              "  };\n",
              "\n",
              "  cancel.remove();\n",
              "\n",
              "  // Disable the input element since further picks are not allowed.\n",
              "  inputElement.disabled = true;\n",
              "\n",
              "  if (!files) {\n",
              "    return {\n",
              "      response: {\n",
              "        action: 'complete',\n",
              "      }\n",
              "    };\n",
              "  }\n",
              "\n",
              "  for (const file of files) {\n",
              "    const li = document.createElement('li');\n",
              "    li.append(span(file.name, {fontWeight: 'bold'}));\n",
              "    li.append(span(\n",
              "        `(${file.type || 'n/a'}) - ${file.size} bytes, ` +\n",
              "        `last modified: ${\n",
              "            file.lastModifiedDate ? file.lastModifiedDate.toLocaleDateString() :\n",
              "                                    'n/a'} - `));\n",
              "    const percent = span('0% done');\n",
              "    li.appendChild(percent);\n",
              "\n",
              "    outputElement.appendChild(li);\n",
              "\n",
              "    const fileDataPromise = new Promise((resolve) => {\n",
              "      const reader = new FileReader();\n",
              "      reader.onload = (e) => {\n",
              "        resolve(e.target.result);\n",
              "      };\n",
              "      reader.readAsArrayBuffer(file);\n",
              "    });\n",
              "    // Wait for the data to be ready.\n",
              "    let fileData = yield {\n",
              "      promise: fileDataPromise,\n",
              "      response: {\n",
              "        action: 'continue',\n",
              "      }\n",
              "    };\n",
              "\n",
              "    // Use a chunked sending to avoid message size limits. See b/62115660.\n",
              "    let position = 0;\n",
              "    do {\n",
              "      const length = Math.min(fileData.byteLength - position, MAX_PAYLOAD_SIZE);\n",
              "      const chunk = new Uint8Array(fileData, position, length);\n",
              "      position += length;\n",
              "\n",
              "      const base64 = btoa(String.fromCharCode.apply(null, chunk));\n",
              "      yield {\n",
              "        response: {\n",
              "          action: 'append',\n",
              "          file: file.name,\n",
              "          data: base64,\n",
              "        },\n",
              "      };\n",
              "\n",
              "      let percentDone = fileData.byteLength === 0 ?\n",
              "          100 :\n",
              "          Math.round((position / fileData.byteLength) * 100);\n",
              "      percent.textContent = `${percentDone}% done`;\n",
              "\n",
              "    } while (position < fileData.byteLength);\n",
              "  }\n",
              "\n",
              "  // All done.\n",
              "  yield {\n",
              "    response: {\n",
              "      action: 'complete',\n",
              "    }\n",
              "  };\n",
              "}\n",
              "\n",
              "scope.google = scope.google || {};\n",
              "scope.google.colab = scope.google.colab || {};\n",
              "scope.google.colab._files = {\n",
              "  _uploadFiles,\n",
              "  _uploadFilesContinue,\n",
              "};\n",
              "})(self);\n",
              "</script> "
            ]
          },
          "metadata": {}
        },
        {
          "output_type": "stream",
          "name": "stdout",
          "text": [
            "Saving data_peptide.csv to data_peptide.csv\n",
            "User uploaded file \"data_peptide.csv\" with length 2436 bytes\n"
          ]
        }
      ]
    },
    {
      "cell_type": "code",
      "source": [
        "############# FIRST ITERATION ####################"
      ],
      "metadata": {
        "id": "1xv96CN55TnO"
      },
      "execution_count": null,
      "outputs": []
    },
    {
      "cell_type": "code",
      "source": [
        "###### Part1 Process the Data\n",
        "DataTable = pd.read_excel(r'/content/DPPS_descriptor.xlsx')\n",
        "DataTable = DataTable.values                   # change DataFrame into Array\n",
        "     "
      ],
      "metadata": {
        "id": "DqepoSUFe8Zn"
      },
      "execution_count": 2,
      "outputs": []
    },
    {
      "cell_type": "code",
      "source": [
        "def DataChoice(str1):\n",
        "    '''\n",
        "    define the function for generating the updated peptide descriptor table\n",
        "    '''\n",
        "    AA = DataTable[:,0].tolist()      # get the 0th column in AA_descriptor table, ['A', 'R','N'...]\n",
        "    id1 = AA.index(str1)              # get the Nth row for each amino acid in AA_descriptor table, e.g., input 'A', output 0; input 'R', output 1\n",
        "    St = DataTable[id1,1]             # get the three letter name from 1ts column of the AA_descriptor table, e.g. input str1='A', then id1=0, output 'ALA'\n",
        "    Data = DataTable[id1,2:]          # get the descriptors (start from 2nd column) from the AA_descriptor table e.g. input str='A', then id1=0, ouput the ten descriptors of Ala\n",
        "    return St, Data"
      ],
      "metadata": {
        "id": "PBvIXhg4fcIL"
      },
      "execution_count": 3,
      "outputs": []
    },
    {
      "cell_type": "code",
      "source": [
        "Data = pd.read_csv(r'/content/data_peptide.csv')   \n",
        "Data = Data.values\n",
        "Num = Data.shape[0]           # total number of peptides\n"
      ],
      "metadata": {
        "id": "BlQVAJ-nfl_E"
      },
      "execution_count": 4,
      "outputs": []
    },
    {
      "cell_type": "code",
      "source": [
        "Str_last = []                 # storage the peptide sequence\n",
        "Data_last = np.zeros((Num, 10*len(Data[0,0]))) # generate zero matrix for storaging the peptide name and its descritpor in dimensiong 1 X 10*8, each AA has 10 descriptors, and each peptide has 8 AAs"
      ],
      "metadata": {
        "id": "9UbhkNcXfuJe"
      },
      "execution_count": 5,
      "outputs": []
    },
    {
      "cell_type": "code",
      "source": [
        "# Get the peptide descriptor table\n",
        "for ii in range(Num):\n",
        "    Str_On = ''         # for storage the name of the peptide, e.g. AlaLeuGln\n",
        "    Val_On1 = []        # for storage the descriptor of peptide, 1 X 80\n",
        "    Str1 = Data[ii,0]   # each peptide sequence, e.g. 'HESTGNLI'\n",
        "    \n",
        "    N_str1 = len(Data[ii,0])       # length of the peptide\n",
        "    for jj in range(N_str1):\n",
        "        S1 = Str1[jj]        # take the single letter from the peptide, e.g. A\n",
        "        Str_Temp, Val_out = DataChoice(S1) # get it three letter name Ala and descriptors\n",
        "        Str_On = Str_On + Str_Temp     # combine all three letter name together AlaLeuGln...\n",
        "        Val_On1.append(Val_out)        # combine all the descriptor 1 X 80\n",
        "        \n",
        "    Siz = np.array(Val_On1).shape      # array dimension\n",
        "    Val_On = np.array(Val_On1).reshape(1,Siz[0]*Siz[1])  \n",
        "    Str_last.append(Str_On)\n",
        "    Data_last[ii,:] = Val_On\n",
        "    \n",
        "Data_Processed = pd.DataFrame(Data_last, index=Str_last)\n",
        "Data_Processed.loc[:, 'Y'] = Data[:,1]                   "
      ],
      "metadata": {
        "id": "uR_GtjR9fzWd"
      },
      "execution_count": 6,
      "outputs": []
    },
    {
      "cell_type": "code",
      "source": [
        "# ouput the processed data\n",
        "writer = pd.ExcelWriter('/content/data_processed.xlsx')\n",
        "Data_Processed.to_excel(writer)\n",
        "writer.save()"
      ],
      "metadata": {
        "colab": {
          "base_uri": "https://localhost:8080/"
        },
        "id": "njrnjwSqgA6k",
        "outputId": "78d2f0ca-cc4d-4f10-e7b0-f3b9b89f82a1"
      },
      "execution_count": 7,
      "outputs": [
        {
          "output_type": "stream",
          "name": "stderr",
          "text": [
            "<ipython-input-7-24e6ea28f17e>:4: FutureWarning: save is not part of the public API, usage can give unexpected results and will be removed in a future version\n",
            "  writer.save()\n"
          ]
        }
      ]
    },
    {
      "cell_type": "code",
      "source": [
        "######## FINAL ITERATION ############"
      ],
      "metadata": {
        "id": "7DNHNkhA29sF"
      },
      "execution_count": null,
      "outputs": []
    },
    {
      "cell_type": "code",
      "source": [
        "# Read the Excel file containing amino acid descriptors and store it as a numpy array\n",
        "DataTable = pd.read_excel(r'/content/DPPS_descriptor.xlsx').values\n",
        "\n",
        "# Read the CSV file containing peptide sequences and store it as a numpy array\n",
        "Data = pd.read_csv(r'/content/data_peptide.csv').values\n",
        "\n",
        "# Get the number of peptides in the dataset\n",
        "num_peptides = Data.shape[0]\n"
      ],
      "metadata": {
        "id": "oH31DPhFXXP_"
      },
      "execution_count": 11,
      "outputs": []
    },
    {
      "cell_type": "code",
      "source": [
        "# Function to return the three-letter abbreviation and descriptors of a single-letter amino acid\n",
        "def DataChoice(aa_single):\n",
        "    aa_index = DataTable[:, 0].tolist().index(aa_single) # Find the index of the given amino acid in the DataTable\n",
        "    \n",
        "    aa_three_letter = DataTable[aa_index, 1] # Get the three-letter abbreviation of the amino acid\n",
        "\n",
        "    aa_descriptors = DataTable[aa_index, 2:] # Get the descriptors of the amino acid\n",
        "\n",
        "    return aa_three_letter, aa_descriptors"
      ],
      "metadata": {
        "id": "-cHgpmO-XfTK"
      },
      "execution_count": 12,
      "outputs": []
    },
    {
      "cell_type": "code",
      "source": [
        "# Initialize lists and arrays to store peptide names and descriptors\n",
        "peptide_names = []\n",
        "peptide_descriptors = np.zeros((num_peptides, 10 * len(Data[0, 0])))\n",
        "\n",
        "# Loop through all peptides in the dataset\n",
        "for i in range(num_peptides):\n",
        "    # Get the peptide sequence\n",
        "    peptide_seq = Data[i, 0]\n",
        "    # Generate the peptide name using three-letter abbreviations\n",
        "    peptide_name = ''.join([DataChoice(aa)[0] for aa in peptide_seq])\n",
        "    # Generate the descriptors for each amino acid in the peptide sequence\n",
        "    peptide_descr = np.hstack([DataChoice(aa)[1] for aa in peptide_seq])\n",
        "\n",
        "    # Append the peptide name to the list of peptide names\n",
        "    peptide_names.append(peptide_name)\n",
        "    # Store the peptide descriptors in the peptide_descriptors array\n",
        "    peptide_descriptors[i, :] = peptide_descr\n",
        "\n",
        "# Create a DataFrame for the processed data using peptide_names as index\n",
        "Data_Processed = pd.DataFrame(peptide_descriptors, index=peptide_names)\n",
        "# Add the target values (Y) to the processed data\n",
        "Data_Processed['Y'] = Data[:, 1]\n"
      ],
      "metadata": {
        "id": "4K8bjrFFXgfc"
      },
      "execution_count": 13,
      "outputs": []
    },
    {
      "cell_type": "code",
      "source": [
        "Data_Processed.to_excel('/content/data_processed.xlsx')"
      ],
      "metadata": {
        "id": "PemsLYmmZOs6"
      },
      "execution_count": 14,
      "outputs": []
    },
    {
      "cell_type": "code",
      "source": [
        "## PLS \n",
        "from sklearn.cross_decomposition import PLSRegression\n",
        "\n",
        "# train_test_split\n",
        "X_train, X_test, y_train, y_test = train_test_split(Data_last, Data[:, 1], test_size=0.2, random_state=5)\n",
        "\n",
        "# Define parameter grid for GridSearchCV\n",
        "param_grid = {'n_components': [1, 2, 3, 4, 5, 6, 7, 8, 9, 10]}\n",
        "\n",
        "pls_model = PLSRegression()\n",
        "\n",
        "# Perform grid search using 5-fold cross-validation to find the optimal number of components\n",
        "grid_search = GridSearchCV(estimator=pls_model, param_grid=param_grid, cv=5)\n",
        "grid_search.fit(X_train, y_train)\n",
        "\n",
        "# Print the best parameter and corresponding score\n",
        "print(\"Best parameters: {}\".format(grid_search.best_params_))\n",
        "print(\"Best cross-validation score: {:.2f}\".format(grid_search.best_score_))\n",
        "\n",
        "# Train the model using the best number of components found\n",
        "pls_model = PLSRegression(n_components=grid_search.best_params_['n_components'])\n",
        "pls_model.fit(X_train, y_train)\n",
        "\n",
        "y_train_pred = pls_model.predict(X_train)\n",
        "y_test_pred = pls_model.predict(X_test)\n",
        "\n",
        "pls_train_metrics = {}\n",
        "pls_train_metrics['RMSE'] = mean_squared_error(y_train, y_train_pred, squared=False)\n",
        "pls_train_metrics['R^2'] = r2_score(y_train, y_train_pred)\n",
        "\n",
        "pls_test_metrics = {}\n",
        "pls_test_metrics['RMSE'] = mean_squared_error(y_test, y_test_pred, squared=False)\n",
        "pls_test_metrics['R^2'] = r2_score(y_test, y_test_pred)\n",
        "\n",
        "print('train metrics:', pls_train_metrics, sep='\\n')\n",
        "print('test metrics:', pls_test_metrics, sep='\\n')"
      ],
      "metadata": {
        "id": "mZlpoZr6gNqV",
        "colab": {
          "base_uri": "https://localhost:8080/"
        },
        "outputId": "87809ab0-0d8a-4a30-d5c4-20c5b58cf654"
      },
      "execution_count": 27,
      "outputs": [
        {
          "output_type": "stream",
          "name": "stdout",
          "text": [
            "Best parameters: {'n_components': 1}\n",
            "Best cross-validation score: 0.14\n",
            "train metrics:\n",
            "{'RMSE': 0.6117734675856239, 'R^2': 0.453931720626528}\n",
            "test metrics:\n",
            "{'RMSE': 0.7359344992162139, 'R^2': 0.1445819584208201}\n"
          ]
        }
      ]
    },
    {
      "cell_type": "code",
      "source": [
        "## RANDOM FOREST\n",
        "\n",
        "from sklearn.ensemble import RandomForestRegressor\n",
        "from sklearn.model_selection import GridSearchCV\n",
        "\n",
        "# train_test_split\n",
        "X_train,X_test,y_train,y_test = train_test_split(Data_last, Data[:,1], test_size=0.2,random_state=5)\n",
        "\n",
        "# Define parameter grid for GridSearchCV\n",
        "param_grid = {'n_estimators': [10, 50, 100, 200, 500]}\n",
        "\n",
        "# Create Random Forest Regressor model\n",
        "rf_model = RandomForestRegressor(random_state=5)\n",
        "\n",
        "# Perform grid search using 5-fold cross-validation to find the optimal number of trees\n",
        "grid_search = GridSearchCV(estimator=rf_model, param_grid=param_grid, cv=5)\n",
        "grid_search.fit(X_train, y_train)\n",
        "\n",
        "# Print the best parameter and corresponding score\n",
        "print(\"Best parameters: {}\".format(grid_search.best_params_))\n",
        "print(\"Best cross-validation score: {:.2f}\".format(grid_search.best_score_))\n",
        "\n",
        "# Train the model using the best number of trees found\n",
        "rf_model = RandomForestRegressor(n_estimators=grid_search.best_params_['n_estimators'], random_state=5)\n",
        "rf_model.fit(X_train, y_train)\n",
        "\n",
        "# Predict on training and testing sets\n",
        "y_train_pred = rf_model.predict(X_train)\n",
        "y_test_pred = rf_model.predict(X_test)\n",
        "\n",
        "# Calculate train metrics\n",
        "rf_train_metrics = {}\n",
        "rf_train_metrics['RMSE'] = mean_squared_error(y_train, y_train_pred, squared=False)\n",
        "rf_train_metrics['R^2'] = r2_score(y_train, y_train_pred)\n",
        "\n",
        "# Calculate test metrics\n",
        "rf_test_metrics = {}\n",
        "rf_test_metrics['RMSE'] = mean_squared_error(y_test, y_test_pred, squared=False)\n",
        "rf_test_metrics['R^2'] = r2_score(y_test, y_test_pred)\n",
        "\n",
        "# Print metrics\n",
        "print('train metrics:', rf_train_metrics, sep='\\n')\n",
        "print('test metrics:', rf_test_metrics, sep='\\n')\n"
      ],
      "metadata": {
        "colab": {
          "base_uri": "https://localhost:8080/"
        },
        "id": "xgL5znyrtfuB",
        "outputId": "a1b14247-d5c8-429e-b1c5-c3d3e94fad1e"
      },
      "execution_count": 29,
      "outputs": [
        {
          "output_type": "stream",
          "name": "stdout",
          "text": [
            "Best parameters: {'n_estimators': 100}\n",
            "Best cross-validation score: 0.66\n",
            "train metrics:\n",
            "{'RMSE': 0.19719727788206964, 'R^2': 0.9432628515200858}\n",
            "test metrics:\n",
            "{'RMSE': 0.4643798830907242, 'R^2': 0.6593982485957786}\n"
          ]
        }
      ]
    },
    {
      "cell_type": "code",
      "source": [
        "!pip install xgboost"
      ],
      "metadata": {
        "colab": {
          "base_uri": "https://localhost:8080/"
        },
        "id": "sCLijd-OjCcf",
        "outputId": "180044ae-e3c3-4cff-e195-728c861279c9"
      },
      "execution_count": 16,
      "outputs": [
        {
          "output_type": "stream",
          "name": "stdout",
          "text": [
            "Looking in indexes: https://pypi.org/simple, https://us-python.pkg.dev/colab-wheels/public/simple/\n",
            "Requirement already satisfied: xgboost in /usr/local/lib/python3.10/dist-packages (1.7.5)\n",
            "Requirement already satisfied: numpy in /usr/local/lib/python3.10/dist-packages (from xgboost) (1.22.4)\n",
            "Requirement already satisfied: scipy in /usr/local/lib/python3.10/dist-packages (from xgboost) (1.10.1)\n"
          ]
        }
      ]
    },
    {
      "cell_type": "code",
      "source": [
        "## GBM\n",
        "\n",
        "import xgboost as xgb\n",
        "\n",
        "# train_test_split\n",
        "X_train, X_test, y_train, y_test = train_test_split(Data_Processed.iloc[:, :-1], Data_Processed['Y'], test_size=0.2, random_state=5)\n",
        "\n",
        "# Define parameter grid for GridSearchCV\n",
        "param_grid = {\n",
        "    'n_estimators': [50, 100, 200, 500],\n",
        "    'learning_rate': [0.01, 0.05, 0.1, 0.2],\n",
        "    'max_depth': [3, 4, 5, 6],\n",
        "    'subsample': [0.5, 0.75, 1],\n",
        "    'colsample_bytree': [0.5, 0.75, 1]\n",
        "}\n",
        "\n",
        "gbm_model = xgb.XGBRegressor(random_state=5, objective='reg:squarederror')\n",
        "\n",
        "# Perform grid search using 5-fold cross-validation to find the best parameters\n",
        "grid_search = GridSearchCV(estimator=gbm_model, param_grid=param_grid, cv=5, scoring='neg_mean_squared_error', n_jobs=-1, verbose=1)\n",
        "grid_search.fit(X_train, y_train)\n",
        "\n",
        "# Print the best parameters and corresponding score\n",
        "print(\"Best parameters: {}\".format(grid_search.best_params_))\n",
        "print(\"Best cross-validation score: {:.2f}\".format(-grid_search.best_score_))\n",
        "\n",
        "# Train the model using the best parameters found\n",
        "best_gbm_model = grid_search.best_estimator_\n",
        "best_gbm_model.fit(X_train, y_train)\n",
        "\n",
        "y_train_pred = best_gbm_model.predict(X_train)\n",
        "y_test_pred = best_gbm_model.predict(X_test)\n",
        "\n",
        "gbm_train_metrics = {}\n",
        "gbm_train_metrics['RMSE'] = mean_squared_error(y_train, y_train_pred, squared=False)\n",
        "gbm_train_metrics['R^2'] = r2_score(y_train, y_train_pred)\n",
        "\n",
        "gbm_test_metrics = {}\n",
        "gbm_test_metrics['RMSE'] = mean_squared_error(y_test, y_test_pred, squared=False)\n",
        "gbm_test_metrics['R^2'] = r2_score(y_test, y_test_pred)\n",
        "\n",
        "print('train metrics:', gbm_train_metrics, sep='\\n')\n",
        "print('test metrics:', gbm_test_metrics, sep='\\n')\n"
      ],
      "metadata": {
        "colab": {
          "base_uri": "https://localhost:8080/"
        },
        "id": "byxYZ4JQjsL9",
        "outputId": "fd337fe5-f28e-417c-b67f-e79b5a4aa400"
      },
      "execution_count": 30,
      "outputs": [
        {
          "output_type": "stream",
          "name": "stdout",
          "text": [
            "Fitting 5 folds for each of 576 candidates, totalling 2880 fits\n",
            "Best parameters: {'colsample_bytree': 0.5, 'learning_rate': 0.05, 'max_depth': 6, 'n_estimators': 500, 'subsample': 0.5}\n",
            "Best cross-validation score: 0.15\n",
            "train metrics:\n",
            "{'RMSE': 0.016896264877919173, 'R^2': 0.9995834692270726}\n",
            "test metrics:\n",
            "{'RMSE': 0.550796628760213, 'R^2': 0.520837714282237}\n"
          ]
        }
      ]
    },
    {
      "cell_type": "code",
      "source": [
        "## SVM\n",
        "\n",
        "from sklearn.svm import SVR\n",
        "from sklearn.preprocessing import StandardScaler\n",
        "\n",
        "# train_test_split\n",
        "X_train, X_test, y_train, y_test = train_test_split(Data_Processed.iloc[:, :-1], Data_Processed['Y'], test_size=0.2, random_state=5)\n",
        "\n",
        "# Scale the features using StandardScaler\n",
        "scaler = StandardScaler()\n",
        "X_train_scaled = scaler.fit_transform(X_train)\n",
        "X_test_scaled = scaler.transform(X_test)\n",
        "\n",
        "# Define parameter grid for GridSearchCV\n",
        "param_grid = {\n",
        "    'C': [0.1, 1, 10, 100],\n",
        "    'epsilon': [0.01, 0.1, 1, 10],\n",
        "    'kernel': ['linear', 'poly', 'rbf', 'sigmoid']\n",
        "}\n",
        "\n",
        "svm_model = SVR()\n",
        "\n",
        "# Perform grid search using 5-fold cross-validation to find the best parameters\n",
        "grid_search = GridSearchCV(estimator=svm_model, param_grid=param_grid, cv=5, scoring='neg_mean_squared_error', n_jobs=-1, verbose=1)\n",
        "grid_search.fit(X_train_scaled, y_train)\n",
        "\n",
        "# Print the best parameters and corresponding score\n",
        "print(\"Best parameters: {}\".format(grid_search.best_params_))\n",
        "print(\"Best cross-validation score: {:.2f}\".format(-grid_search.best_score_))\n",
        "\n",
        "# Train the model using the best parameters found\n",
        "best_svm_model = grid_search.best_estimator_\n",
        "best_svm_model.fit(X_train_scaled, y_train)\n",
        "\n",
        "y_train_pred = best_svm_model.predict(X_train_scaled)\n",
        "y_test_pred = best_svm_model.predict(X_test_scaled)\n",
        "\n",
        "svm_train_metrics = {}\n",
        "svm_train_metrics['RMSE'] = mean_squared_error(y_train, y_train_pred, squared=False)\n",
        "svm_train_metrics['R^2'] = r2_score(y_train, y_train_pred)\n",
        "\n",
        "svm_test_metrics = {}\n",
        "svm_test_metrics['RMSE'] = mean_squared_error(y_test, y_test_pred, squared=False)\n",
        "svm_test_metrics['R^2'] = r2_score(y_test, y_test_pred)\n",
        "\n",
        "print('train metrics:', svm_train_metrics, sep='\\n')\n",
        "print('test metrics:', svm_test_metrics, sep='\\n')\n"
      ],
      "metadata": {
        "colab": {
          "base_uri": "https://localhost:8080/"
        },
        "id": "xwWUu1qRpkaT",
        "outputId": "50e3cde9-8153-47bf-8cd7-af0c048c00cb"
      },
      "execution_count": 31,
      "outputs": [
        {
          "output_type": "stream",
          "name": "stdout",
          "text": [
            "Fitting 5 folds for each of 64 candidates, totalling 320 fits\n",
            "Best parameters: {'C': 10, 'epsilon': 0.1, 'kernel': 'rbf'}\n",
            "Best cross-validation score: 0.37\n",
            "train metrics:\n",
            "{'RMSE': 0.09742570814141083, 'R^2': 0.9861511785477903}\n",
            "test metrics:\n",
            "{'RMSE': 0.4963492271877555, 'R^2': 0.6108878595847789}\n"
          ]
        }
      ]
    },
    {
      "cell_type": "code",
      "source": [
        "model_names = ['Random Forest', 'GBM', 'SVM', 'PLS']\n",
        "\n",
        "# Replace these example values with the actual RMSE values from your models\n",
        "rmse_values = [rf_test_metrics['RMSE'], gbm_test_metrics['RMSE'], svm_test_metrics['RMSE'], pls_test_metrics['RMSE']]\n",
        "\n",
        "# Replace these example values with the actual R^2 values from your models\n",
        "r2_values = [rf_test_metrics['R^2'], gbm_test_metrics['R^2'], svm_test_metrics['R^2'], pls_test_metrics['R^2']]\n"
      ],
      "metadata": {
        "id": "5cT66eT5-Nfw"
      },
      "execution_count": 32,
      "outputs": []
    },
    {
      "cell_type": "code",
      "source": [
        "import matplotlib.pyplot as plt\n",
        "\n",
        "# Plot RMSE values\n",
        "plt.figure(figsize=(8, 4))\n",
        "plt.bar(model_names, rmse_values)\n",
        "plt.xlabel('Models')\n",
        "plt.ylabel('RMSE')\n",
        "plt.title('Model RMSE Comparison')\n",
        "plt.show()\n",
        "\n",
        "# Plot R^2 values\n",
        "plt.figure(figsize=(8, 4))\n",
        "plt.bar(model_names, r2_values)\n",
        "plt.xlabel('Models')\n",
        "plt.ylabel('R^2')\n",
        "plt.title('Model R^2 Comparison')\n",
        "plt.show()\n"
      ],
      "metadata": {
        "colab": {
          "base_uri": "https://localhost:8080/",
          "height": 803
        },
        "id": "TerWeIT7-YFX",
        "outputId": "c4bc1e6e-ef47-4d95-e5af-6511a827892a"
      },
      "execution_count": 33,
      "outputs": [
        {
          "output_type": "display_data",
          "data": {
            "text/plain": [
              "<Figure size 800x400 with 1 Axes>"
            ],
            "image/png": "[encoded data removed]"
          },
          "metadata": {}
        },
        {
          "output_type": "display_data",
          "data": {
            "text/plain": [
              "<Figure size 800x400 with 1 Axes>"
            ],
            "image/png": "[encoded data removed]"
          },
          "metadata": {}
        }
      ]
    }
  ]
}